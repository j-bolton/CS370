{
 "cells": [
  {
   "cell_type": "markdown",
   "metadata": {},
   "source": [
    "# Treasure Hunt Game Notebook\n",
    "\n",
    "## Read and Review Your Starter Code\n",
    "The theme of this project is a popular treasure hunt game in which the player needs to find the treasure before the pirate does. While you will not be developing the entire game, you will write the part of the game that represents the intelligent agent, which is a pirate in this case. The pirate will try to find the optimal path to the treasure using deep Q-learning. \n",
    "\n",
    "You have been provided with two Python classes and this notebook to help you with this assignment. The first class, TreasureMaze.py, represents the environment, which includes a maze object defined as a matrix. The second class, GameExperience.py, stores the episodes – that is, all the states that come in between the initial state and the terminal state. This is later used by the agent for learning by experience, called \"exploration\". This notebook shows how to play a game. Your task is to complete the deep Q-learning implementation for which a skeleton implementation has been provided. The code blocs you will need to complete has #TODO as a header.\n",
    "\n",
    "First, read and review the next few code and instruction blocks to understand the code that you have been given."
   ]
  },
  {
   "cell_type": "code",
   "execution_count": 1,
   "metadata": {},
   "outputs": [
    {
     "name": "stderr",
     "output_type": "stream",
     "text": [
      "Using TensorFlow backend.\n"
     ]
    }
   ],
   "source": [
    "from __future__ import print_function\n",
    "import os, sys, time, datetime, json, random\n",
    "import numpy as np\n",
    "from keras.models import Sequential\n",
    "from keras.layers.core import Dense, Activation\n",
    "from keras.optimizers import SGD , Adam, RMSprop\n",
    "from keras.layers.advanced_activations import PReLU\n",
    "import matplotlib.pyplot as plt\n",
    "from TreasureMaze import TreasureMaze\n",
    "from GameExperience import GameExperience\n",
    "%matplotlib inline"
   ]
  },
  {
   "cell_type": "markdown",
   "metadata": {},
   "source": [
    "The following code block contains an 8x8 matrix that will be used as a maze object:"
   ]
  },
  {
   "cell_type": "code",
   "execution_count": 2,
   "metadata": {},
   "outputs": [],
   "source": [
    "maze = np.array([\n",
    "    [ 1.,  0.,  1.,  1.,  1.,  1.,  1.,  1.],\n",
    "    [ 1.,  0.,  1.,  1.,  1.,  0.,  1.,  1.],\n",
    "    [ 1.,  1.,  1.,  1.,  0.,  1.,  0.,  1.],\n",
    "    [ 1.,  1.,  1.,  0.,  1.,  1.,  1.,  1.],\n",
    "    [ 1.,  1.,  0.,  1.,  1.,  1.,  1.,  1.],\n",
    "    [ 1.,  1.,  1.,  0.,  1.,  0.,  0.,  0.],\n",
    "    [ 1.,  1.,  1.,  0.,  1.,  1.,  1.,  1.],\n",
    "    [ 1.,  1.,  1.,  1.,  0.,  1.,  1.,  1.]\n",
    "])"
   ]
  },
  {
   "cell_type": "markdown",
   "metadata": {},
   "source": [
    "This helper function allows a visual representation of the maze object:"
   ]
  },
  {
   "cell_type": "code",
   "execution_count": 3,
   "metadata": {},
   "outputs": [],
   "source": [
    "def show(qmaze):\n",
    "    plt.grid('on')\n",
    "    nrows, ncols = qmaze.maze.shape\n",
    "    ax = plt.gca()\n",
    "    ax.set_xticks(np.arange(0.5, nrows, 1))\n",
    "    ax.set_yticks(np.arange(0.5, ncols, 1))\n",
    "    ax.set_xticklabels([])\n",
    "    ax.set_yticklabels([])\n",
    "    canvas = np.copy(qmaze.maze)\n",
    "    for row,col in qmaze.visited:\n",
    "        canvas[row,col] = 0.6\n",
    "    pirate_row, pirate_col, _ = qmaze.state\n",
    "    canvas[pirate_row, pirate_col] = 0.3   # pirate cell\n",
    "    canvas[nrows-1, ncols-1] = 0.9 # treasure cell\n",
    "    img = plt.imshow(canvas, interpolation='none', cmap='gray')\n",
    "    return img"
   ]
  },
  {
   "cell_type": "markdown",
   "metadata": {},
   "source": [
    "The pirate agent can move in four directions: left, right, up, and down. \n",
    "\n",
    "While the agent primarily learns by experience through exploitation, often, the agent can choose to explore the environment to find previously undiscovered paths. This is called \"exploration\" and is defined by epsilon. This value is typically a lower value such as 0.1, which means for every ten attempts, the agent will attempt to learn by experience nine times and will randomly explore a new path one time. You are encouraged to try various values for the exploration factor and see how the algorithm performs."
   ]
  },
  {
   "cell_type": "code",
   "execution_count": 4,
   "metadata": {},
   "outputs": [],
   "source": [
    "LEFT = 0\n",
    "UP = 1\n",
    "RIGHT = 2\n",
    "DOWN = 3\n",
    "\n",
    "\n",
    "# Exploration factor\n",
    "epsilon = 0.001\n",
    "\n",
    "# Actions dictionary\n",
    "actions_dict = {\n",
    "    LEFT: 'left',\n",
    "    UP: 'up',\n",
    "    RIGHT: 'right',\n",
    "    DOWN: 'down',\n",
    "}\n",
    "\n",
    "num_actions = len(actions_dict)\n"
   ]
  },
  {
   "cell_type": "markdown",
   "metadata": {},
   "source": [
    "The sample code block and output below show creating a maze object and performing one action (DOWN), which returns the reward. The resulting updated environment is visualized."
   ]
  },
  {
   "cell_type": "code",
   "execution_count": 5,
   "metadata": {},
   "outputs": [
    {
     "name": "stdout",
     "output_type": "stream",
     "text": [
      "reward= -0.04\n"
     ]
    },
    {
     "data": {
      "text/plain": [
       "<matplotlib.image.AxesImage at 0x1f4fa149408>"
      ]
     },
     "execution_count": 5,
     "metadata": {},
     "output_type": "execute_result"
    },
    {
     "data": {
      "image/png": "[encoded data removed]",
      "text/plain": [
       "<Figure size 432x288 with 1 Axes>"
      ]
     },
     "metadata": {
      "needs_background": "light"
     },
     "output_type": "display_data"
    }
   ],
   "source": [
    "qmaze = TreasureMaze(maze)\n",
    "canvas, reward, game_over = qmaze.act(DOWN)\n",
    "print(\"reward=\", reward)\n",
    "show(qmaze)"
   ]
  },
  {
   "cell_type": "markdown",
   "metadata": {},
   "source": [
    "This function simulates a full game based on the provided trained model. The other parameters include the TreasureMaze object and the starting position of the pirate."
   ]
  },
  {
   "cell_type": "code",
   "execution_count": 6,
   "metadata": {},
   "outputs": [],
   "source": [
    "def play_game(model, qmaze, pirate_cell):\n",
    "    qmaze.reset(pirate_cell)\n",
    "    envstate = qmaze.observe()\n",
    "    while True:\n",
    "        prev_envstate = envstate\n",
    "        # get next action\n",
    "        q = model.predict(prev_envstate)\n",
    "        action = np.argmax(q[0])\n",
    "\n",
    "        # apply action, get rewards and new state\n",
    "        envstate, reward, game_status = qmaze.act(action)\n",
    "        if game_status == 'win':\n",
    "            return True\n",
    "        elif game_status == 'lose':\n",
    "            return False"
   ]
  },
  {
   "cell_type": "markdown",
   "metadata": {},
   "source": [
    "This function helps you to determine whether the pirate can win any game at all. If your maze is not well designed, the pirate may not win any game at all. In this case, your training would not yield any result. The provided maze in this notebook ensures that there is a path to win and you can run this method to check."
   ]
  },
  {
   "cell_type": "code",
   "execution_count": 7,
   "metadata": {},
   "outputs": [],
   "source": [
    "def completion_check(model, qmaze):\n",
    "    for cell in qmaze.free_cells:\n",
    "        if not qmaze.valid_actions(cell):\n",
    "            return False\n",
    "        if not play_game(model, qmaze, cell):\n",
    "            return False\n",
    "    return True"
   ]
  },
  {
   "cell_type": "markdown",
   "metadata": {},
   "source": [
    "The code you have been given in this block will build the neural network model. Review the code and note the number of layers, as well as the activation, optimizer, and loss functions that are used to train the model."
   ]
  },
  {
   "cell_type": "code",
   "execution_count": 8,
   "metadata": {},
   "outputs": [],
   "source": [
    "def build_model(maze):\n",
    "    model = Sequential()\n",
    "    model.add(Dense(maze.size, input_shape=(maze.size,)))\n",
    "    model.add(PReLU())\n",
    "    model.add(Dense(maze.size))\n",
    "    model.add(PReLU())\n",
    "    model.add(Dense(num_actions))\n",
    "    model.compile(optimizer='adam', loss='mse')\n",
    "    return model"
   ]
  },
  {
   "cell_type": "markdown",
   "metadata": {},
   "source": [
    "# #TODO: Complete the Q-Training Algorithm Code Block\n",
    "\n",
    "This is your deep Q-learning implementation. The goal of your deep Q-learning implementation is to find the best possible navigation sequence that results in reaching the treasure cell while maximizing the reward. In your implementation, you need to determine the optimal number of epochs to achieve a 100% win rate.\n",
    "\n",
    "You will need to complete the section starting with #pseudocode. The pseudocode has been included for you."
   ]
  },
  {
   "cell_type": "code",
   "execution_count": 9,
   "metadata": {},
   "outputs": [],
   "source": [
    "def qtrain(model, maze, **opt):\n",
    "\n",
    "    # exploration factor\n",
    "    global epsilon \n",
    "\n",
    "    # number of epochs\n",
    "    n_epoch = opt.get('n_epoch', 15000)\n",
    "\n",
    "    # maximum memory to store episodes\n",
    "    max_memory = opt.get('max_memory', 1000)\n",
    "\n",
    "    # maximum data size for training\n",
    "    data_size = opt.get('data_size', 50)\n",
    "\n",
    "    # start time\n",
    "    start_time = datetime.datetime.now()\n",
    "\n",
    "    # Construct environment/game from numpy array: maze (see above)\n",
    "    qmaze = TreasureMaze(maze)\n",
    "\n",
    "    # Initialize experience replay object\n",
    "    experience = GameExperience(model, max_memory=max_memory)\n",
    "    \n",
    "    win_history = []   # history of win/lose game\n",
    "    hsize = qmaze.maze.size//2   # history window size\n",
    "    win_rate = 0.0\n",
    "    \n",
    "    for epoch in range(n_epoch):\n",
    "        \n",
    "        loss = 0.0\n",
    "        n_episodes = 0\n",
    "        Agent_cell = random.choice(qmaze.free_cells) # Randomly select a free cell\n",
    "        qmaze.reset(Agent_cell)                      # Reset the maze with agent set to above position\n",
    "        envstate = qmaze.observe()                   # Observe the current state\n",
    "        game_over = False\n",
    "        \n",
    "        while not game_over:\n",
    "            \n",
    "            if not qmaze.valid_actions(): # End the episode if an invalid action is taken,\n",
    "                break                     # helps wiith endless loops in early epochs\n",
    "            \n",
    "            previous_envstate = envstate\n",
    "                                                              # np.random.rand() returns a random float\n",
    "            if np.random.rand() < epsilon:                    # If this float is less than exploration value,\n",
    "                action = random.choice(qmaze.valid_actions()) # choose a random action\n",
    "            else:                                             # Otherwise, choose stored experience with highest Q-value\n",
    "                action = np.argmax(experience.predict(previous_envstate))\n",
    "\n",
    "            envstate, reward, game_status = qmaze.act(action) # Calculate environment state, reward, and game status after action\n",
    "            \n",
    "            if game_status == 'win':    # If a game is won, a 1 is added to win_history\n",
    "                win_history.append(1)\n",
    "                game_over = True\n",
    "                \n",
    "            elif game_status == 'lose': # If a game is lost, a 0 is added to win_history\n",
    "                win_history.append(0)\n",
    "                game_over = True\n",
    "                \n",
    "            else:\n",
    "                game_over = False\n",
    "                \n",
    "            episode = [previous_envstate, action, reward, envstate, game_over] # Create episode tuple\n",
    "            experience.remember(episode) # Store episode in experience replay object\n",
    "            n_episodes += 1 # Incriment n_episodes for output\n",
    "\n",
    "            # Train neural network model\n",
    "            inputs, targets = experience.get_data(data_size=data_size)\n",
    "            h = model.fit(inputs, targets, epochs=8, batch_size=16, verbose=0)\n",
    "            \n",
    "            # Evaluate loss\n",
    "            loss = model.evaluate(inputs, targets, verbose=0)\n",
    "\n",
    "        if len(win_history) > hsize:                     # Once the history window is fully populated,\n",
    "            win_rate = sum(win_history[-hsize:]) / hsize # calculate win_rate\n",
    "            \n",
    "    #Print the epoch, loss, episodes, win count, and win rate for each epoch\n",
    "        dt = datetime.datetime.now() - start_time\n",
    "        t = format_time(dt.total_seconds())\n",
    "        template = \"Epoch: {:03d}/{:d} | Loss: {:.4f} | Episodes: {:d} | Win count: {:d} | Win rate: {:.3f} | time: {}\"\n",
    "        print(template.format(epoch, n_epoch-1, loss, n_episodes, sum(win_history), win_rate, t))\n",
    "        # We simply check if training has exhausted all free cells and if in all\n",
    "        # cases the agent won.\n",
    "        if win_rate > 0.9:\n",
    "            epsilon = 0.05\n",
    "        if sum(win_history[-hsize:]) == hsize and completion_check(model, qmaze):\n",
    "            print(\"Reached 100%% win rate at epoch: %d\" % (epoch,))\n",
    "            break\n",
    "    \n",
    "    # Determine the total time for training\n",
    "    dt = datetime.datetime.now() - start_time\n",
    "    seconds = dt.total_seconds()\n",
    "    t = format_time(seconds)\n",
    "\n",
    "    print(\"n_epoch: %d, max_mem: %d, data: %d, time: %s\" % (epoch, max_memory, data_size, t))\n",
    "    return seconds\n",
    "\n",
    "# This is a small utility for printing readable time strings:\n",
    "def format_time(seconds):\n",
    "    if seconds < 400:\n",
    "        s = float(seconds)\n",
    "        return \"%.1f seconds\" % (s,)\n",
    "    elif seconds < 4000:\n",
    "        m = seconds / 60.0\n",
    "        return \"%.2f minutes\" % (m,)\n",
    "    else:\n",
    "        h = seconds / 3600.0\n",
    "        return \"%.2f hours\" % (h,)"
   ]
  },
  {
   "cell_type": "markdown",
   "metadata": {},
   "source": [
    "## Test Your Model\n",
    "\n",
    "Now we will start testing the deep Q-learning implementation. To begin, select **Cell**, then **Run All** from the menu bar. This will run your notebook. As it runs, you should see output begin to appear beneath the next few cells. The code below creates an instance of TreasureMaze."
   ]
  },
  {
   "cell_type": "code",
   "execution_count": 10,
   "metadata": {},
   "outputs": [
    {
     "data": {
      "text/plain": [
       "<matplotlib.image.AxesImage at 0x1f4fb4843c8>"
      ]
     },
     "execution_count": 10,
     "metadata": {},
     "output_type": "execute_result"
    },
    {
     "data": {
      "image/png": "[encoded data removed]",
      "text/plain": [
       "<Figure size 432x288 with 1 Axes>"
      ]
     },
     "metadata": {
      "needs_background": "light"
     },
     "output_type": "display_data"
    }
   ],
   "source": [
    "qmaze = TreasureMaze(maze)\n",
    "show(qmaze)"
   ]
  },
  {
   "cell_type": "markdown",
   "metadata": {},
   "source": [
    "In the next code block, you will build your model and train it using deep Q-learning. Note: This step takes several minutes to fully run."
   ]
  },
  {
   "cell_type": "code",
   "execution_count": 11,
   "metadata": {},
   "outputs": [
    {
     "name": "stdout",
     "output_type": "stream",
     "text": [
      "Epoch: 000/14999 | Loss: 0.0016 | Episodes: 147 | Win count: 0 | Win rate: 0.000 | time: 19.8 seconds\n",
      "Epoch: 001/14999 | Loss: 0.0020 | Episodes: 139 | Win count: 0 | Win rate: 0.000 | time: 35.6 seconds\n",
      "Epoch: 002/14999 | Loss: 0.0918 | Episodes: 146 | Win count: 0 | Win rate: 0.000 | time: 51.3 seconds\n",
      "Epoch: 003/14999 | Loss: 0.0006 | Episodes: 135 | Win count: 0 | Win rate: 0.000 | time: 66.4 seconds\n",
      "Epoch: 004/14999 | Loss: 0.0017 | Episodes: 138 | Win count: 0 | Win rate: 0.000 | time: 87.2 seconds\n",
      "Epoch: 005/14999 | Loss: 0.0009 | Episodes: 134 | Win count: 0 | Win rate: 0.000 | time: 106.2 seconds\n",
      "Epoch: 006/14999 | Loss: 0.0072 | Episodes: 140 | Win count: 0 | Win rate: 0.000 | time: 121.8 seconds\n",
      "Epoch: 007/14999 | Loss: 0.0007 | Episodes: 132 | Win count: 0 | Win rate: 0.000 | time: 136.8 seconds\n",
      "Epoch: 008/14999 | Loss: 0.0010 | Episodes: 135 | Win count: 0 | Win rate: 0.000 | time: 152.8 seconds\n",
      "Epoch: 009/14999 | Loss: 0.0044 | Episodes: 134 | Win count: 0 | Win rate: 0.000 | time: 167.6 seconds\n",
      "Epoch: 010/14999 | Loss: 0.0016 | Episodes: 126 | Win count: 1 | Win rate: 0.000 | time: 181.6 seconds\n",
      "Epoch: 011/14999 | Loss: 0.0015 | Episodes: 142 | Win count: 1 | Win rate: 0.000 | time: 197.5 seconds\n",
      "Epoch: 012/14999 | Loss: 0.0038 | Episodes: 131 | Win count: 1 | Win rate: 0.000 | time: 212.4 seconds\n",
      "Epoch: 013/14999 | Loss: 0.0235 | Episodes: 135 | Win count: 1 | Win rate: 0.000 | time: 227.3 seconds\n",
      "Epoch: 014/14999 | Loss: 0.0041 | Episodes: 1 | Win count: 2 | Win rate: 0.000 | time: 227.4 seconds\n",
      "Epoch: 015/14999 | Loss: 0.0053 | Episodes: 100 | Win count: 3 | Win rate: 0.000 | time: 240.1 seconds\n",
      "Epoch: 016/14999 | Loss: 0.0392 | Episodes: 117 | Win count: 4 | Win rate: 0.000 | time: 253.6 seconds\n",
      "Epoch: 017/14999 | Loss: 0.0348 | Episodes: 69 | Win count: 5 | Win rate: 0.000 | time: 261.6 seconds\n",
      "Epoch: 018/14999 | Loss: 0.0330 | Episodes: 136 | Win count: 5 | Win rate: 0.000 | time: 277.2 seconds\n",
      "Epoch: 019/14999 | Loss: 0.0090 | Episodes: 134 | Win count: 5 | Win rate: 0.000 | time: 292.0 seconds\n",
      "Epoch: 020/14999 | Loss: 0.0111 | Episodes: 7 | Win count: 6 | Win rate: 0.000 | time: 292.8 seconds\n",
      "Epoch: 021/14999 | Loss: 0.0047 | Episodes: 6 | Win count: 7 | Win rate: 0.000 | time: 293.6 seconds\n",
      "Epoch: 022/14999 | Loss: 0.0064 | Episodes: 39 | Win count: 8 | Win rate: 0.000 | time: 298.2 seconds\n",
      "Epoch: 023/14999 | Loss: 0.0086 | Episodes: 2 | Win count: 9 | Win rate: 0.000 | time: 298.4 seconds\n",
      "Epoch: 024/14999 | Loss: 0.0038 | Episodes: 55 | Win count: 10 | Win rate: 0.000 | time: 304.6 seconds\n",
      "Epoch: 025/14999 | Loss: 0.0153 | Episodes: 137 | Win count: 10 | Win rate: 0.000 | time: 320.2 seconds\n",
      "Epoch: 026/14999 | Loss: 0.0036 | Episodes: 12 | Win count: 11 | Win rate: 0.000 | time: 321.5 seconds\n",
      "Epoch: 027/14999 | Loss: 0.0046 | Episodes: 108 | Win count: 12 | Win rate: 0.000 | time: 333.2 seconds\n",
      "Epoch: 028/14999 | Loss: 0.0026 | Episodes: 54 | Win count: 13 | Win rate: 0.000 | time: 339.4 seconds\n",
      "Epoch: 029/14999 | Loss: 0.0037 | Episodes: 114 | Win count: 14 | Win rate: 0.000 | time: 352.0 seconds\n",
      "Epoch: 030/14999 | Loss: 0.0015 | Episodes: 19 | Win count: 15 | Win rate: 0.000 | time: 354.2 seconds\n",
      "Epoch: 031/14999 | Loss: 0.0027 | Episodes: 13 | Win count: 16 | Win rate: 0.000 | time: 355.5 seconds\n",
      "Epoch: 032/14999 | Loss: 0.0045 | Episodes: 15 | Win count: 17 | Win rate: 0.531 | time: 357.2 seconds\n",
      "Epoch: 033/14999 | Loss: 0.0044 | Episodes: 35 | Win count: 18 | Win rate: 0.562 | time: 360.8 seconds\n",
      "Epoch: 034/14999 | Loss: 0.0015 | Episodes: 24 | Win count: 19 | Win rate: 0.594 | time: 363.5 seconds\n",
      "Epoch: 035/14999 | Loss: 0.0009 | Episodes: 5 | Win count: 20 | Win rate: 0.625 | time: 364.0 seconds\n",
      "Epoch: 036/14999 | Loss: 0.0016 | Episodes: 16 | Win count: 21 | Win rate: 0.656 | time: 365.7 seconds\n",
      "Epoch: 037/14999 | Loss: 0.0006 | Episodes: 94 | Win count: 22 | Win rate: 0.688 | time: 376.1 seconds\n",
      "Epoch: 038/14999 | Loss: 0.0020 | Episodes: 18 | Win count: 23 | Win rate: 0.719 | time: 377.9 seconds\n",
      "Epoch: 039/14999 | Loss: 0.0010 | Episodes: 27 | Win count: 24 | Win rate: 0.750 | time: 380.9 seconds\n",
      "Epoch: 040/14999 | Loss: 0.0009 | Episodes: 7 | Win count: 25 | Win rate: 0.781 | time: 381.6 seconds\n",
      "Epoch: 041/14999 | Loss: 0.0009 | Episodes: 11 | Win count: 26 | Win rate: 0.812 | time: 382.9 seconds\n",
      "Epoch: 042/14999 | Loss: 0.0023 | Episodes: 18 | Win count: 27 | Win rate: 0.812 | time: 385.0 seconds\n",
      "Epoch: 043/14999 | Loss: 0.0003 | Episodes: 37 | Win count: 28 | Win rate: 0.844 | time: 388.8 seconds\n",
      "Epoch: 044/14999 | Loss: 0.0011 | Episodes: 11 | Win count: 29 | Win rate: 0.875 | time: 390.0 seconds\n",
      "Epoch: 045/14999 | Loss: 0.0007 | Episodes: 25 | Win count: 30 | Win rate: 0.906 | time: 392.6 seconds\n",
      "Epoch: 046/14999 | Loss: 0.0011 | Episodes: 9 | Win count: 31 | Win rate: 0.906 | time: 393.6 seconds\n",
      "Epoch: 047/14999 | Loss: 0.0010 | Episodes: 2 | Win count: 32 | Win rate: 0.906 | time: 393.7 seconds\n",
      "Epoch: 048/14999 | Loss: 0.0008 | Episodes: 7 | Win count: 33 | Win rate: 0.906 | time: 394.6 seconds\n",
      "Epoch: 049/14999 | Loss: 0.0004 | Episodes: 25 | Win count: 34 | Win rate: 0.906 | time: 397.3 seconds\n",
      "Epoch: 050/14999 | Loss: 0.0005 | Episodes: 3 | Win count: 35 | Win rate: 0.938 | time: 397.6 seconds\n",
      "Epoch: 051/14999 | Loss: 0.0005 | Episodes: 5 | Win count: 36 | Win rate: 0.969 | time: 398.3 seconds\n",
      "Epoch: 052/14999 | Loss: 0.0004 | Episodes: 15 | Win count: 37 | Win rate: 0.969 | time: 399.9 seconds\n",
      "Epoch: 053/14999 | Loss: 0.0028 | Episodes: 30 | Win count: 38 | Win rate: 0.969 | time: 6.72 minutes\n",
      "Epoch: 054/14999 | Loss: 0.0029 | Episodes: 34 | Win count: 39 | Win rate: 0.969 | time: 6.78 minutes\n",
      "Epoch: 055/14999 | Loss: 0.0016 | Episodes: 27 | Win count: 40 | Win rate: 0.969 | time: 6.84 minutes\n",
      "Epoch: 056/14999 | Loss: 0.0004 | Episodes: 27 | Win count: 41 | Win rate: 0.969 | time: 6.88 minutes\n",
      "Epoch: 057/14999 | Loss: 0.0012 | Episodes: 27 | Win count: 42 | Win rate: 1.000 | time: 6.93 minutes\n",
      "Epoch: 058/14999 | Loss: 0.0008 | Episodes: 19 | Win count: 43 | Win rate: 1.000 | time: 6.98 minutes\n",
      "Epoch: 059/14999 | Loss: 0.0003 | Episodes: 24 | Win count: 44 | Win rate: 1.000 | time: 7.02 minutes\n",
      "Epoch: 060/14999 | Loss: 0.0005 | Episodes: 9 | Win count: 45 | Win rate: 1.000 | time: 7.04 minutes\n",
      "Epoch: 061/14999 | Loss: 0.0004 | Episodes: 20 | Win count: 46 | Win rate: 1.000 | time: 7.08 minutes\n",
      "Epoch: 062/14999 | Loss: 0.0013 | Episodes: 9 | Win count: 47 | Win rate: 1.000 | time: 7.10 minutes\n",
      "Epoch: 063/14999 | Loss: 0.0004 | Episodes: 4 | Win count: 48 | Win rate: 1.000 | time: 7.12 minutes\n",
      "Epoch: 064/14999 | Loss: 0.0003 | Episodes: 7 | Win count: 49 | Win rate: 1.000 | time: 7.13 minutes\n",
      "Epoch: 065/14999 | Loss: 0.0022 | Episodes: 24 | Win count: 50 | Win rate: 1.000 | time: 7.18 minutes\n",
      "Epoch: 066/14999 | Loss: 0.0004 | Episodes: 33 | Win count: 51 | Win rate: 1.000 | time: 7.24 minutes\n",
      "Epoch: 067/14999 | Loss: 0.0004 | Episodes: 20 | Win count: 52 | Win rate: 1.000 | time: 7.28 minutes\n",
      "Epoch: 068/14999 | Loss: 0.0007 | Episodes: 28 | Win count: 53 | Win rate: 1.000 | time: 7.34 minutes\n",
      "Epoch: 069/14999 | Loss: 0.0008 | Episodes: 1 | Win count: 54 | Win rate: 1.000 | time: 7.35 minutes\n",
      "Epoch: 070/14999 | Loss: 0.0011 | Episodes: 26 | Win count: 55 | Win rate: 1.000 | time: 7.40 minutes\n",
      "Epoch: 071/14999 | Loss: 0.0008 | Episodes: 15 | Win count: 56 | Win rate: 1.000 | time: 7.43 minutes\n",
      "Epoch: 072/14999 | Loss: 0.0015 | Episodes: 8 | Win count: 57 | Win rate: 1.000 | time: 7.45 minutes\n",
      "Epoch: 073/14999 | Loss: 0.0015 | Episodes: 1 | Win count: 58 | Win rate: 1.000 | time: 7.45 minutes\n",
      "Epoch: 074/14999 | Loss: 0.0019 | Episodes: 17 | Win count: 59 | Win rate: 1.000 | time: 7.49 minutes\n",
      "Epoch: 075/14999 | Loss: 0.0006 | Episodes: 35 | Win count: 60 | Win rate: 1.000 | time: 7.56 minutes\n",
      "Epoch: 076/14999 | Loss: 0.0004 | Episodes: 40 | Win count: 61 | Win rate: 1.000 | time: 7.63 minutes\n",
      "Epoch: 077/14999 | Loss: 0.0006 | Episodes: 17 | Win count: 62 | Win rate: 1.000 | time: 7.67 minutes\n",
      "Epoch: 078/14999 | Loss: 0.0002 | Episodes: 49 | Win count: 63 | Win rate: 1.000 | time: 7.76 minutes\n",
      "Epoch: 079/14999 | Loss: 0.0009 | Episodes: 25 | Win count: 64 | Win rate: 1.000 | time: 7.81 minutes\n",
      "Epoch: 080/14999 | Loss: 0.0002 | Episodes: 30 | Win count: 65 | Win rate: 1.000 | time: 7.87 minutes\n"
     ]
    },
    {
     "name": "stdout",
     "output_type": "stream",
     "text": [
      "Epoch: 081/14999 | Loss: 0.0006 | Episodes: 20 | Win count: 66 | Win rate: 1.000 | time: 7.91 minutes\n",
      "Epoch: 082/14999 | Loss: 0.0008 | Episodes: 7 | Win count: 67 | Win rate: 1.000 | time: 7.92 minutes\n",
      "Epoch: 083/14999 | Loss: 0.0008 | Episodes: 9 | Win count: 68 | Win rate: 1.000 | time: 7.94 minutes\n",
      "Epoch: 084/14999 | Loss: 0.0018 | Episodes: 1 | Win count: 69 | Win rate: 1.000 | time: 7.95 minutes\n",
      "Epoch: 085/14999 | Loss: 0.0009 | Episodes: 19 | Win count: 70 | Win rate: 1.000 | time: 7.98 minutes\n",
      "Epoch: 086/14999 | Loss: 0.0027 | Episodes: 24 | Win count: 71 | Win rate: 1.000 | time: 8.03 minutes\n",
      "Epoch: 087/14999 | Loss: 0.0006 | Episodes: 38 | Win count: 72 | Win rate: 1.000 | time: 8.10 minutes\n",
      "Epoch: 088/14999 | Loss: 0.0015 | Episodes: 31 | Win count: 73 | Win rate: 1.000 | time: 8.16 minutes\n",
      "Epoch: 089/14999 | Loss: 0.0007 | Episodes: 1 | Win count: 74 | Win rate: 1.000 | time: 8.16 minutes\n",
      "Epoch: 090/14999 | Loss: 0.0004 | Episodes: 22 | Win count: 75 | Win rate: 1.000 | time: 8.20 minutes\n",
      "Epoch: 091/14999 | Loss: 0.0011 | Episodes: 14 | Win count: 76 | Win rate: 1.000 | time: 8.23 minutes\n",
      "Epoch: 092/14999 | Loss: 0.0004 | Episodes: 21 | Win count: 77 | Win rate: 1.000 | time: 8.27 minutes\n",
      "Epoch: 093/14999 | Loss: 0.0009 | Episodes: 21 | Win count: 78 | Win rate: 1.000 | time: 8.32 minutes\n",
      "Epoch: 094/14999 | Loss: 0.0011 | Episodes: 22 | Win count: 79 | Win rate: 1.000 | time: 8.36 minutes\n",
      "Epoch: 095/14999 | Loss: 0.0010 | Episodes: 21 | Win count: 80 | Win rate: 1.000 | time: 8.40 minutes\n",
      "Epoch: 096/14999 | Loss: 0.0002 | Episodes: 11 | Win count: 81 | Win rate: 1.000 | time: 8.42 minutes\n",
      "Epoch: 097/14999 | Loss: 0.0008 | Episodes: 2 | Win count: 82 | Win rate: 1.000 | time: 8.43 minutes\n",
      "Epoch: 098/14999 | Loss: 0.0002 | Episodes: 2 | Win count: 83 | Win rate: 1.000 | time: 8.43 minutes\n",
      "Epoch: 099/14999 | Loss: 0.0006 | Episodes: 3 | Win count: 84 | Win rate: 1.000 | time: 8.44 minutes\n",
      "Epoch: 100/14999 | Loss: 0.0013 | Episodes: 15 | Win count: 85 | Win rate: 1.000 | time: 8.47 minutes\n",
      "Epoch: 101/14999 | Loss: 0.0014 | Episodes: 26 | Win count: 86 | Win rate: 1.000 | time: 8.52 minutes\n",
      "Epoch: 102/14999 | Loss: 0.0010 | Episodes: 30 | Win count: 87 | Win rate: 1.000 | time: 8.58 minutes\n",
      "Epoch: 103/14999 | Loss: 0.0015 | Episodes: 1 | Win count: 88 | Win rate: 1.000 | time: 8.58 minutes\n",
      "Epoch: 104/14999 | Loss: 0.0007 | Episodes: 1 | Win count: 89 | Win rate: 1.000 | time: 8.58 minutes\n",
      "Epoch: 105/14999 | Loss: 0.0009 | Episodes: 32 | Win count: 90 | Win rate: 1.000 | time: 8.64 minutes\n",
      "Epoch: 106/14999 | Loss: 0.0007 | Episodes: 25 | Win count: 91 | Win rate: 1.000 | time: 8.70 minutes\n",
      "Epoch: 107/14999 | Loss: 0.0011 | Episodes: 1 | Win count: 92 | Win rate: 1.000 | time: 8.70 minutes\n",
      "Epoch: 108/14999 | Loss: 0.0003 | Episodes: 19 | Win count: 93 | Win rate: 1.000 | time: 8.74 minutes\n",
      "Epoch: 109/14999 | Loss: 0.0007 | Episodes: 12 | Win count: 94 | Win rate: 1.000 | time: 8.77 minutes\n",
      "Epoch: 110/14999 | Loss: 0.0003 | Episodes: 31 | Win count: 95 | Win rate: 1.000 | time: 8.83 minutes\n",
      "Epoch: 111/14999 | Loss: 0.0002 | Episodes: 20 | Win count: 96 | Win rate: 1.000 | time: 8.87 minutes\n",
      "Epoch: 112/14999 | Loss: 0.0006 | Episodes: 42 | Win count: 97 | Win rate: 1.000 | time: 8.95 minutes\n",
      "Epoch: 113/14999 | Loss: 0.0005 | Episodes: 10 | Win count: 98 | Win rate: 1.000 | time: 8.97 minutes\n",
      "Epoch: 114/14999 | Loss: 0.0007 | Episodes: 10 | Win count: 99 | Win rate: 1.000 | time: 9.00 minutes\n",
      "Epoch: 115/14999 | Loss: 0.0007 | Episodes: 7 | Win count: 100 | Win rate: 1.000 | time: 9.01 minutes\n",
      "Epoch: 116/14999 | Loss: 0.0010 | Episodes: 26 | Win count: 101 | Win rate: 1.000 | time: 9.06 minutes\n",
      "Epoch: 117/14999 | Loss: 0.0002 | Episodes: 3 | Win count: 102 | Win rate: 1.000 | time: 9.07 minutes\n",
      "Epoch: 118/14999 | Loss: 0.0009 | Episodes: 25 | Win count: 103 | Win rate: 1.000 | time: 9.12 minutes\n",
      "Epoch: 119/14999 | Loss: 0.0002 | Episodes: 4 | Win count: 104 | Win rate: 1.000 | time: 9.14 minutes\n",
      "Epoch: 120/14999 | Loss: 0.0013 | Episodes: 16 | Win count: 105 | Win rate: 1.000 | time: 9.17 minutes\n",
      "Epoch: 121/14999 | Loss: 0.0002 | Episodes: 50 | Win count: 106 | Win rate: 1.000 | time: 9.27 minutes\n",
      "Epoch: 122/14999 | Loss: 0.0006 | Episodes: 26 | Win count: 107 | Win rate: 1.000 | time: 9.32 minutes\n",
      "Epoch: 123/14999 | Loss: 0.0002 | Episodes: 28 | Win count: 108 | Win rate: 1.000 | time: 9.38 minutes\n",
      "Epoch: 124/14999 | Loss: 0.0008 | Episodes: 28 | Win count: 109 | Win rate: 1.000 | time: 9.44 minutes\n",
      "Epoch: 125/14999 | Loss: 0.0005 | Episodes: 9 | Win count: 110 | Win rate: 1.000 | time: 9.46 minutes\n",
      "Epoch: 126/14999 | Loss: 0.0007 | Episodes: 36 | Win count: 111 | Win rate: 1.000 | time: 9.54 minutes\n",
      "Epoch: 127/14999 | Loss: 0.0006 | Episodes: 17 | Win count: 112 | Win rate: 1.000 | time: 9.58 minutes\n",
      "Epoch: 128/14999 | Loss: 0.0011 | Episodes: 30 | Win count: 113 | Win rate: 1.000 | time: 9.64 minutes\n",
      "Epoch: 129/14999 | Loss: 0.0003 | Episodes: 2 | Win count: 114 | Win rate: 1.000 | time: 9.65 minutes\n",
      "Epoch: 130/14999 | Loss: 0.0005 | Episodes: 22 | Win count: 115 | Win rate: 1.000 | time: 9.70 minutes\n",
      "Epoch: 131/14999 | Loss: 0.0014 | Episodes: 10 | Win count: 116 | Win rate: 1.000 | time: 9.72 minutes\n",
      "Epoch: 132/14999 | Loss: 0.0003 | Episodes: 35 | Win count: 117 | Win rate: 1.000 | time: 9.79 minutes\n",
      "Epoch: 133/14999 | Loss: 0.0003 | Episodes: 14 | Win count: 118 | Win rate: 1.000 | time: 9.83 minutes\n",
      "Epoch: 134/14999 | Loss: 0.0007 | Episodes: 16 | Win count: 119 | Win rate: 1.000 | time: 9.87 minutes\n",
      "Epoch: 135/14999 | Loss: 0.0004 | Episodes: 9 | Win count: 120 | Win rate: 1.000 | time: 9.89 minutes\n",
      "Epoch: 136/14999 | Loss: 0.0004 | Episodes: 1 | Win count: 121 | Win rate: 1.000 | time: 9.89 minutes\n",
      "Epoch: 137/14999 | Loss: 0.0001 | Episodes: 2 | Win count: 122 | Win rate: 1.000 | time: 9.90 minutes\n",
      "Epoch: 138/14999 | Loss: 0.0007 | Episodes: 9 | Win count: 123 | Win rate: 1.000 | time: 9.92 minutes\n",
      "Epoch: 139/14999 | Loss: 0.0003 | Episodes: 1 | Win count: 124 | Win rate: 1.000 | time: 9.92 minutes\n",
      "Epoch: 140/14999 | Loss: 0.0009 | Episodes: 18 | Win count: 125 | Win rate: 1.000 | time: 9.96 minutes\n",
      "Epoch: 141/14999 | Loss: 0.0003 | Episodes: 7 | Win count: 126 | Win rate: 1.000 | time: 9.98 minutes\n",
      "Epoch: 142/14999 | Loss: 0.0004 | Episodes: 1 | Win count: 127 | Win rate: 1.000 | time: 9.99 minutes\n",
      "Epoch: 143/14999 | Loss: 0.0007 | Episodes: 24 | Win count: 128 | Win rate: 1.000 | time: 10.04 minutes\n",
      "Epoch: 144/14999 | Loss: 0.0003 | Episodes: 22 | Win count: 129 | Win rate: 1.000 | time: 10.08 minutes\n",
      "Epoch: 145/14999 | Loss: 0.0173 | Episodes: 9 | Win count: 130 | Win rate: 1.000 | time: 10.10 minutes\n",
      "Epoch: 146/14999 | Loss: 0.0007 | Episodes: 25 | Win count: 131 | Win rate: 1.000 | time: 10.16 minutes\n",
      "Epoch: 147/14999 | Loss: 0.0009 | Episodes: 23 | Win count: 132 | Win rate: 1.000 | time: 10.21 minutes\n",
      "Epoch: 148/14999 | Loss: 0.0036 | Episodes: 50 | Win count: 133 | Win rate: 1.000 | time: 10.31 minutes\n",
      "Epoch: 149/14999 | Loss: 0.0007 | Episodes: 2 | Win count: 134 | Win rate: 1.000 | time: 10.32 minutes\n",
      "Epoch: 150/14999 | Loss: 0.0009 | Episodes: 1 | Win count: 135 | Win rate: 1.000 | time: 10.33 minutes\n",
      "Epoch: 151/14999 | Loss: 0.0008 | Episodes: 15 | Win count: 136 | Win rate: 1.000 | time: 10.37 minutes\n",
      "Epoch: 152/14999 | Loss: 0.0007 | Episodes: 18 | Win count: 137 | Win rate: 1.000 | time: 10.41 minutes\n",
      "Epoch: 153/14999 | Loss: 0.0001 | Episodes: 24 | Win count: 138 | Win rate: 1.000 | time: 10.46 minutes\n",
      "Epoch: 154/14999 | Loss: 0.0002 | Episodes: 11 | Win count: 139 | Win rate: 1.000 | time: 10.49 minutes\n",
      "Epoch: 155/14999 | Loss: 0.0004 | Episodes: 13 | Win count: 140 | Win rate: 1.000 | time: 10.52 minutes\n",
      "Epoch: 156/14999 | Loss: 0.0007 | Episodes: 31 | Win count: 141 | Win rate: 1.000 | time: 10.58 minutes\n",
      "Epoch: 157/14999 | Loss: 0.0005 | Episodes: 13 | Win count: 142 | Win rate: 1.000 | time: 10.61 minutes\n",
      "Epoch: 158/14999 | Loss: 0.0012 | Episodes: 22 | Win count: 143 | Win rate: 1.000 | time: 10.66 minutes\n",
      "Epoch: 159/14999 | Loss: 0.0004 | Episodes: 28 | Win count: 144 | Win rate: 1.000 | time: 10.71 minutes\n",
      "Epoch: 160/14999 | Loss: 0.0003 | Episodes: 33 | Win count: 145 | Win rate: 1.000 | time: 10.77 minutes\n"
     ]
    },
    {
     "name": "stdout",
     "output_type": "stream",
     "text": [
      "Epoch: 161/14999 | Loss: 0.0013 | Episodes: 3 | Win count: 146 | Win rate: 1.000 | time: 10.78 minutes\n",
      "Epoch: 162/14999 | Loss: 0.0005 | Episodes: 29 | Win count: 147 | Win rate: 1.000 | time: 10.84 minutes\n",
      "Epoch: 163/14999 | Loss: 0.0013 | Episodes: 40 | Win count: 148 | Win rate: 1.000 | time: 10.92 minutes\n",
      "Epoch: 164/14999 | Loss: 0.0005 | Episodes: 7 | Win count: 149 | Win rate: 1.000 | time: 10.94 minutes\n",
      "Reached 100% win rate at epoch: 164\n",
      "n_epoch: 164, max_mem: 512, data: 32, time: 10.94 minutes\n"
     ]
    },
    {
     "data": {
      "text/plain": [
       "656.661874"
      ]
     },
     "execution_count": 11,
     "metadata": {},
     "output_type": "execute_result"
    }
   ],
   "source": [
    "model = build_model(maze)\n",
    "qtrain(model, maze, epochs=1000, max_memory=8*maze.size, data_size=32)"
   ]
  },
  {
   "cell_type": "markdown",
   "metadata": {},
   "source": [
    "This cell will check to see if the model passes the completion check. Note: This could take several minutes."
   ]
  },
  {
   "cell_type": "code",
   "execution_count": 12,
   "metadata": {},
   "outputs": [
    {
     "data": {
      "text/plain": [
       "<matplotlib.image.AxesImage at 0x1f482158648>"
      ]
     },
     "execution_count": 12,
     "metadata": {},
     "output_type": "execute_result"
    },
    {
     "data": {
      "image/png": "[encoded data removed]",
      "text/plain": [
       "<Figure size 432x288 with 1 Axes>"
      ]
     },
     "metadata": {
      "needs_background": "light"
     },
     "output_type": "display_data"
    }
   ],
   "source": [
    "completion_check(model, qmaze)\n",
    "show(qmaze)"
   ]
  },
  {
   "cell_type": "markdown",
   "metadata": {},
   "source": [
    "This cell will test your model for one game. It will start the pirate at the top-left corner and run play_game. The agent should find a path from the starting position to the target (treasure). The treasure is located in the bottom-right corner."
   ]
  },
  {
   "cell_type": "code",
   "execution_count": 13,
   "metadata": {},
   "outputs": [
    {
     "data": {
      "text/plain": [
       "<matplotlib.image.AxesImage at 0x1f4821afd88>"
      ]
     },
     "execution_count": 13,
     "metadata": {},
     "output_type": "execute_result"
    },
    {
     "data": {
      "image/png": "[encoded data removed]",
      "text/plain": [
       "<Figure size 432x288 with 1 Axes>"
      ]
     },
     "metadata": {
      "needs_background": "light"
     },
     "output_type": "display_data"
    }
   ],
   "source": [
    "pirate_start = (0, 0)\n",
    "play_game(model, qmaze, pirate_start)\n",
    "show(qmaze)"
   ]
  },
  {
   "cell_type": "markdown",
   "metadata": {},
   "source": [
    "## Save and Submit Your Work\n",
    "After you have finished creating the code for your notebook, save your work. Make sure that your notebook contains your name in the filename (e.g. Doe_Jane_ProjectTwo.ipynb). This will help your instructor access and grade your work easily. Download a copy of your IPYNB file and submit it to Brightspace. Refer to the Jupyter Notebook in Apporto Tutorial if you need help with these tasks."
   ]
  }
 ],
 "metadata": {
  "kernelspec": {
   "display_name": "Python 3",
   "language": "python",
   "name": "python3"
  },
  "language_info": {
   "codemirror_mode": {
    "name": "ipython",
    "version": 3
   },
   "file_extension": ".py",
   "mimetype": "text/x-python",
   "name": "python",
   "nbconvert_exporter": "python",
   "pygments_lexer": "ipython3",
   "version": "3.7.4"
  }
 },
 "nbformat": 4,
 "nbformat_minor": 2
}
